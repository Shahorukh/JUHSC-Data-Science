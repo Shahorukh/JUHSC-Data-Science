{
 "cells": [
  {
   "cell_type": "markdown",
   "id": "824093be",
   "metadata": {},
   "source": [
    "# Numpy Module\n"
   ]
  },
  {
   "cell_type": "code",
   "execution_count": 1,
   "id": "970b26b2",
   "metadata": {},
   "outputs": [],
   "source": [
    "import numpy as np"
   ]
  },
  {
   "cell_type": "markdown",
   "id": "4a243274",
   "metadata": {},
   "source": [
    "# Creating Numpy Array\n",
    "## From Python LIst"
   ]
  },
  {
   "cell_type": "code",
   "execution_count": 5,
   "id": "ddded928",
   "metadata": {},
   "outputs": [
    {
     "data": {
      "text/plain": [
       "array([1, 2, 3, 4, 5])"
      ]
     },
     "execution_count": 5,
     "metadata": {},
     "output_type": "execute_result"
    }
   ],
   "source": [
    "# test=[1,2,3,4,5]\n",
    "# np.array(test)"
   ]
  },
  {
   "cell_type": "code",
   "execution_count": 11,
   "id": "ec7bfedd",
   "metadata": {},
   "outputs": [],
   "source": [
    "matrix=np.array([[1,2,3], [4,5,6], [7,8,9]])"
   ]
  },
  {
   "cell_type": "code",
   "execution_count": 12,
   "id": "10a9b67b",
   "metadata": {},
   "outputs": [
    {
     "data": {
      "text/plain": [
       "array([[1, 2, 3],\n",
       "       [4, 5, 6],\n",
       "       [7, 8, 9]])"
      ]
     },
     "execution_count": 12,
     "metadata": {},
     "output_type": "execute_result"
    }
   ],
   "source": [
    "matrix"
   ]
  },
  {
   "cell_type": "code",
   "execution_count": null,
   "id": "a98b9e1f",
   "metadata": {},
   "outputs": [],
   "source": []
  }
 ],
 "metadata": {
  "kernelspec": {
   "display_name": "Python 3 (ipykernel)",
   "language": "python",
   "name": "python3"
  },
  "language_info": {
   "codemirror_mode": {
    "name": "ipython",
    "version": 3
   },
   "file_extension": ".py",
   "mimetype": "text/x-python",
   "name": "python",
   "nbconvert_exporter": "python",
   "pygments_lexer": "ipython3",
   "version": "3.11.5"
  }
 },
 "nbformat": 4,
 "nbformat_minor": 5
}
