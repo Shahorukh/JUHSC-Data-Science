{
 "cells": [
  {
   "cell_type": "code",
   "execution_count": 30,
   "id": "ed2aa309",
   "metadata": {},
   "outputs": [],
   "source": [
    "class sgc():\n",
    "    def __init__(self,name,mark):\n",
    "        self.name=name\n",
    "        self.mark=mark\n",
    "    def subject(self):\n",
    "        return self.name\n",
    "    def grade(self):\n",
    "        if 60<=self.mark<=69:\n",
    "            return 'A-'\n",
    "        elif 70<=self.mark<=79:\n",
    "            return 'A'\n",
    "        elif 80<=self.mark<=100:\n",
    "            return 'A+'\n",
    "        else:\n",
    "            print('Wrong value')\n",
    "    def cg(self):\n",
    "        if 80<=self.mark<=100:\n",
    "            return 4\n",
    "        elif 70<=self.mark<=79:\n",
    "            return 3\n",
    "        else:\n",
    "            return 2\n",
    "                \n",
    "        "
   ]
  },
  {
   "cell_type": "code",
   "execution_count": 31,
   "id": "3f067ed7",
   "metadata": {},
   "outputs": [
    {
     "name": "stdout",
     "output_type": "stream",
     "text": [
      "Bangla\n",
      "A+\n",
      "4\n"
     ]
    },
    {
     "data": {
      "text/plain": [
       "('Bangla', 80)"
      ]
     },
     "execution_count": 31,
     "metadata": {},
     "output_type": "execute_result"
    }
   ],
   "source": [
    "a=sgc('Bangla',80)\n",
    "print(a.subject())\n",
    "print(a.grade())\n",
    "print(a.cg())\n",
    "a.name,a.mark"
   ]
  },
  {
   "cell_type": "code",
   "execution_count": 33,
   "id": "88f0c030",
   "metadata": {},
   "outputs": [
    {
     "name": "stdout",
     "output_type": "stream",
     "text": [
      "Enter total subject: 3\n",
      "Enter subject name: math\n",
      "Enter subject mark: 85\n",
      "Enter subject name: phy\n",
      "Enter subject mark: 65\n",
      "Enter subject name: che\n",
      "Enter subject mark: 75\n",
      "3.0\n"
     ]
    }
   ],
   "source": [
    "n=int(input('Enter total subject: '))\n",
    "t_gpa=0\n",
    "for i in range(n):\n",
    "    cg_list=[]\n",
    "    subject_name=input('Enter subject name: ')\n",
    "    subject_mark=int(input('Enter subject mark: '))\n",
    "    globals()[subject_name]=sgc('subject_name',subject_mark)\n",
    "    t_gpa+= (globals()[subject_name].cg())/n\n",
    "print(t_gpa)"
   ]
  },
  {
   "cell_type": "code",
   "execution_count": 25,
   "id": "14c976a8",
   "metadata": {},
   "outputs": [
    {
     "name": "stdout",
     "output_type": "stream",
     "text": [
      "A+\n",
      "A-\n",
      "A\n"
     ]
    }
   ],
   "source": [
    "print(math.grade())\n",
    "print(phy.grade())\n",
    "print(che.grade())"
   ]
  },
  {
   "cell_type": "code",
   "execution_count": 26,
   "id": "8df6b410",
   "metadata": {},
   "outputs": [
    {
     "name": "stdout",
     "output_type": "stream",
     "text": [
      "CG 4\n",
      "CG 2\n",
      "CG 3\n"
     ]
    }
   ],
   "source": [
    "print(math.cg())\n",
    "print(phy.cg())\n",
    "print(che.cg())"
   ]
  },
  {
   "cell_type": "markdown",
   "id": "fbe90cd1",
   "metadata": {},
   "source": [
    "# Multiple input\n",
    "## method (1)\n"
   ]
  },
  {
   "cell_type": "code",
   "execution_count": 34,
   "id": "1625973a",
   "metadata": {},
   "outputs": [
    {
     "name": "stdout",
     "output_type": "stream",
     "text": [
      "Enter numbers1 2 3\n"
     ]
    }
   ],
   "source": [
    "a,b,c=input('Enter numbers').split()"
   ]
  },
  {
   "cell_type": "code",
   "execution_count": 35,
   "id": "16b5c5aa",
   "metadata": {},
   "outputs": [
    {
     "data": {
      "text/plain": [
       "'1'"
      ]
     },
     "execution_count": 35,
     "metadata": {},
     "output_type": "execute_result"
    }
   ],
   "source": [
    "a"
   ]
  },
  {
   "cell_type": "code",
   "execution_count": 36,
   "id": "98de02c8",
   "metadata": {},
   "outputs": [
    {
     "data": {
      "text/plain": [
       "'3'"
      ]
     },
     "execution_count": 36,
     "metadata": {},
     "output_type": "execute_result"
    }
   ],
   "source": [
    "c"
   ]
  },
  {
   "cell_type": "markdown",
   "id": "77dbc125",
   "metadata": {},
   "source": [
    "## method (2)"
   ]
  },
  {
   "cell_type": "code",
   "execution_count": 37,
   "id": "0c184edb",
   "metadata": {},
   "outputs": [
    {
     "name": "stdout",
     "output_type": "stream",
     "text": [
      "Enter first name: SRK\n",
      "Enter last name: Safa\n"
     ]
    }
   ],
   "source": [
    "x,y=input('Enter first name: '),input('Enter last name: ')"
   ]
  },
  {
   "cell_type": "code",
   "execution_count": 38,
   "id": "1d95f2cc",
   "metadata": {},
   "outputs": [
    {
     "data": {
      "text/plain": [
       "'SRK'"
      ]
     },
     "execution_count": 38,
     "metadata": {},
     "output_type": "execute_result"
    }
   ],
   "source": [
    "x"
   ]
  },
  {
   "cell_type": "code",
   "execution_count": 39,
   "id": "e05b33dd",
   "metadata": {},
   "outputs": [
    {
     "data": {
      "text/plain": [
       "'Safa'"
      ]
     },
     "execution_count": 39,
     "metadata": {},
     "output_type": "execute_result"
    }
   ],
   "source": [
    "y"
   ]
  },
  {
   "cell_type": "code",
   "execution_count": 40,
   "id": "f8f23c9b",
   "metadata": {},
   "outputs": [
    {
     "name": "stdout",
     "output_type": "stream",
     "text": [
      "Enter name and age: safa,25\n"
     ]
    }
   ],
   "source": [
    "x,y=[x for x in input('Enter name and age: ').split(\",\")]"
   ]
  },
  {
   "cell_type": "code",
   "execution_count": 41,
   "id": "531b35fc",
   "metadata": {},
   "outputs": [
    {
     "data": {
      "text/plain": [
       "'safa'"
      ]
     },
     "execution_count": 41,
     "metadata": {},
     "output_type": "execute_result"
    }
   ],
   "source": [
    "x"
   ]
  },
  {
   "cell_type": "code",
   "execution_count": 42,
   "id": "a6fbb25e",
   "metadata": {},
   "outputs": [
    {
     "data": {
      "text/plain": [
       "'25'"
      ]
     },
     "execution_count": 42,
     "metadata": {},
     "output_type": "execute_result"
    }
   ],
   "source": [
    "y"
   ]
  },
  {
   "cell_type": "markdown",
   "id": "73477aac",
   "metadata": {},
   "source": [
    "# Numpy Module"
   ]
  },
  {
   "cell_type": "code",
   "execution_count": 43,
   "id": "938ccec5",
   "metadata": {},
   "outputs": [],
   "source": [
    "import numpy as np"
   ]
  },
  {
   "cell_type": "markdown",
   "id": "5891d487",
   "metadata": {},
   "source": [
    "# creating numpy arrays"
   ]
  },
  {
   "cell_type": "code",
   "execution_count": 45,
   "id": "1715b72c",
   "metadata": {},
   "outputs": [
    {
     "data": {
      "text/plain": [
       "array([1, 2, 3, 4, 5])"
      ]
     },
     "execution_count": 45,
     "metadata": {},
     "output_type": "execute_result"
    }
   ],
   "source": [
    "a = [1,2,3,4,5]\n",
    "np.array(a)"
   ]
  },
  {
   "cell_type": "code",
   "execution_count": 46,
   "id": "5705cbda",
   "metadata": {},
   "outputs": [
    {
     "data": {
      "text/plain": [
       "array([0., 0., 0., 0.])"
      ]
     },
     "execution_count": 46,
     "metadata": {},
     "output_type": "execute_result"
    }
   ],
   "source": [
    "np.zeros(4)"
   ]
  },
  {
   "cell_type": "code",
   "execution_count": 50,
   "id": "49b37e01",
   "metadata": {},
   "outputs": [
    {
     "data": {
      "text/plain": [
       "array([0., 0., 0.])"
      ]
     },
     "execution_count": 50,
     "metadata": {},
     "output_type": "execute_result"
    }
   ],
   "source": [
    "np.zeros(3)"
   ]
  },
  {
   "cell_type": "code",
   "execution_count": 51,
   "id": "4f156ba2",
   "metadata": {},
   "outputs": [
    {
     "data": {
      "text/plain": [
       "array([[0., 0., 0., 0.],\n",
       "       [0., 0., 0., 0.],\n",
       "       [0., 0., 0., 0.]])"
      ]
     },
     "execution_count": 51,
     "metadata": {},
     "output_type": "execute_result"
    }
   ],
   "source": [
    "np.zeros((3,4))"
   ]
  },
  {
   "cell_type": "code",
   "execution_count": 52,
   "id": "4c6d09ac",
   "metadata": {},
   "outputs": [
    {
     "data": {
      "text/plain": [
       "array([[[0., 0., 0.],\n",
       "        [0., 0., 0.],\n",
       "        [0., 0., 0.]],\n",
       "\n",
       "       [[0., 0., 0.],\n",
       "        [0., 0., 0.],\n",
       "        [0., 0., 0.]]])"
      ]
     },
     "execution_count": 52,
     "metadata": {},
     "output_type": "execute_result"
    }
   ],
   "source": [
    "np.zeros(((2,3,3)))"
   ]
  },
  {
   "cell_type": "code",
   "execution_count": 53,
   "id": "6ef83ecb",
   "metadata": {},
   "outputs": [
    {
     "data": {
      "text/plain": [
       "array([[1., 0., 0.],\n",
       "       [0., 1., 0.],\n",
       "       [0., 0., 1.]])"
      ]
     },
     "execution_count": 53,
     "metadata": {},
     "output_type": "execute_result"
    }
   ],
   "source": [
    "np.eye(3)"
   ]
  },
  {
   "cell_type": "code",
   "execution_count": 54,
   "id": "5b534f90",
   "metadata": {},
   "outputs": [
    {
     "data": {
      "text/plain": [
       "array([1., 1., 1.])"
      ]
     },
     "execution_count": 54,
     "metadata": {},
     "output_type": "execute_result"
    }
   ],
   "source": [
    "np.ones(3)"
   ]
  },
  {
   "cell_type": "code",
   "execution_count": 55,
   "id": "38ff957c",
   "metadata": {},
   "outputs": [
    {
     "data": {
      "text/plain": [
       "array([0, 1, 2, 3, 4, 5, 6, 7, 8, 9])"
      ]
     },
     "execution_count": 55,
     "metadata": {},
     "output_type": "execute_result"
    }
   ],
   "source": [
    "np.arange(0,10)"
   ]
  },
  {
   "cell_type": "code",
   "execution_count": 56,
   "id": "9b0e9f98",
   "metadata": {},
   "outputs": [
    {
     "data": {
      "text/plain": [
       "array([0, 2, 4, 6, 8])"
      ]
     },
     "execution_count": 56,
     "metadata": {},
     "output_type": "execute_result"
    }
   ],
   "source": [
    "np.arange(0,10,2)"
   ]
  },
  {
   "cell_type": "code",
   "execution_count": 60,
   "id": "df62f6e3",
   "metadata": {},
   "outputs": [
    {
     "data": {
      "text/plain": [
       "array([ 0.        ,  1.42857143,  2.85714286,  4.28571429,  5.71428571,\n",
       "        7.14285714,  8.57142857, 10.        ])"
      ]
     },
     "execution_count": 60,
     "metadata": {},
     "output_type": "execute_result"
    }
   ],
   "source": [
    "np.linspace(0,10,8)"
   ]
  },
  {
   "cell_type": "markdown",
   "id": "0a82a510",
   "metadata": {},
   "source": [
    "# Random Numbers\n",
    "## np.random.rand() can be used to create random samples from a uniform distribution over [0, 1)."
   ]
  },
  {
   "cell_type": "code",
   "execution_count": 61,
   "id": "9af87a60",
   "metadata": {},
   "outputs": [],
   "source": [
    "a=np.random.rand(10)"
   ]
  },
  {
   "cell_type": "code",
   "execution_count": 62,
   "id": "0d6a5879",
   "metadata": {},
   "outputs": [
    {
     "data": {
      "text/plain": [
       "array([0.20840142, 0.05563299, 0.39864885, 0.41007644, 0.98431201,\n",
       "       0.13469873, 0.30870085, 0.02822752, 0.36697179, 0.14043611])"
      ]
     },
     "execution_count": 62,
     "metadata": {},
     "output_type": "execute_result"
    }
   ],
   "source": [
    "a\n"
   ]
  },
  {
   "cell_type": "code",
   "execution_count": 63,
   "id": "7bd3ec06",
   "metadata": {},
   "outputs": [
    {
     "data": {
      "text/plain": [
       "array([5, 8, 2])"
      ]
     },
     "execution_count": 63,
     "metadata": {},
     "output_type": "execute_result"
    }
   ],
   "source": [
    "np.random.randint(0,10,3)"
   ]
  },
  {
   "cell_type": "code",
   "execution_count": 67,
   "id": "1b1be171",
   "metadata": {},
   "outputs": [
    {
     "data": {
      "text/plain": [
       "array([3, 6, 5])"
      ]
     },
     "execution_count": 67,
     "metadata": {},
     "output_type": "execute_result"
    }
   ],
   "source": [
    "np.random.randint(0,10,3)"
   ]
  },
  {
   "cell_type": "code",
   "execution_count": 69,
   "id": "16800092",
   "metadata": {},
   "outputs": [
    {
     "data": {
      "text/plain": [
       "array([[0.2778669 , 0.60804055, 0.99429321, 0.09813308, 0.5449527 ],\n",
       "       [0.93354701, 0.59210691, 0.3757555 , 0.81870222, 0.24462553],\n",
       "       [0.36264749, 0.75547424, 0.28227407, 0.01775319, 0.29609942],\n",
       "       [0.93335587, 0.68750769, 0.06903649, 0.15225666, 0.78300634],\n",
       "       [0.25169763, 0.38116561, 0.93698028, 0.2042663 , 0.90132678]])"
      ]
     },
     "execution_count": 69,
     "metadata": {},
     "output_type": "execute_result"
    }
   ],
   "source": [
    "np.random.rand(5,5)"
   ]
  },
  {
   "cell_type": "code",
   "execution_count": 70,
   "id": "6f6e4c71",
   "metadata": {},
   "outputs": [
    {
     "data": {
      "text/plain": [
       "array([-0.15432804,  0.82825201, -1.92675692, -0.23336307,  0.4039623 ])"
      ]
     },
     "execution_count": 70,
     "metadata": {},
     "output_type": "execute_result"
    }
   ],
   "source": [
    "np.random.randn(5)"
   ]
  },
  {
   "cell_type": "code",
   "execution_count": 72,
   "id": "6d999f32",
   "metadata": {},
   "outputs": [
    {
     "data": {
      "text/plain": [
       "array([[ 1.80312024,  1.68520188, -0.37167657,  0.51252724,  0.37186955],\n",
       "       [-1.87467621,  0.01718536,  1.27744153, -0.11698944,  1.13755076],\n",
       "       [ 2.72484925, -0.82933687, -0.31522195,  0.01647229, -0.09391398],\n",
       "       [-0.62077939,  0.14746278, -0.26608171,  0.25421907, -0.63315169],\n",
       "       [-0.03356151,  0.60261884, -0.79360995, -0.55560025, -2.9875536 ]])"
      ]
     },
     "execution_count": 72,
     "metadata": {},
     "output_type": "execute_result"
    }
   ],
   "source": [
    "np.random.randn(5,5)"
   ]
  },
  {
   "cell_type": "code",
   "execution_count": 73,
   "id": "6605d96b",
   "metadata": {},
   "outputs": [],
   "source": [
    "a=np.random.randn(5,5)"
   ]
  },
  {
   "cell_type": "code",
   "execution_count": 74,
   "id": "445413c6",
   "metadata": {},
   "outputs": [
    {
     "data": {
      "text/plain": [
       "numpy.ndarray"
      ]
     },
     "execution_count": 74,
     "metadata": {},
     "output_type": "execute_result"
    }
   ],
   "source": [
    "type(a)"
   ]
  },
  {
   "cell_type": "code",
   "execution_count": 75,
   "id": "8d1699a7",
   "metadata": {},
   "outputs": [
    {
     "data": {
      "text/plain": [
       "43"
      ]
     },
     "execution_count": 75,
     "metadata": {},
     "output_type": "execute_result"
    }
   ],
   "source": [
    "np.random.randint(1,50)"
   ]
  },
  {
   "cell_type": "code",
   "execution_count": 83,
   "id": "74cde3eb",
   "metadata": {},
   "outputs": [],
   "source": [
    "test=np.random.randint(1,50,16)"
   ]
  },
  {
   "cell_type": "code",
   "execution_count": 84,
   "id": "156954f8",
   "metadata": {},
   "outputs": [
    {
     "name": "stdout",
     "output_type": "stream",
     "text": [
      "[44 15 26  1 32 11 17 43 12 33 20  5 10 18 26 20]\n"
     ]
    }
   ],
   "source": [
    "print(test)"
   ]
  },
  {
   "cell_type": "code",
   "execution_count": 85,
   "id": "cbf78f8a",
   "metadata": {},
   "outputs": [
    {
     "name": "stdout",
     "output_type": "stream",
     "text": [
      "44\n",
      "15\n",
      "26\n",
      "1\n",
      "32\n",
      "11\n",
      "17\n",
      "43\n",
      "12\n",
      "33\n",
      "20\n",
      "5\n",
      "10\n",
      "18\n",
      "26\n",
      "20\n"
     ]
    }
   ],
   "source": [
    "for i in test:\n",
    "    print(i)"
   ]
  },
  {
   "cell_type": "code",
   "execution_count": 86,
   "id": "34fd098f",
   "metadata": {},
   "outputs": [
    {
     "data": {
      "text/plain": [
       "[44, 15, 26, 1, 32, 11, 17, 43, 12, 33, 20, 5, 10, 18, 26, 20]"
      ]
     },
     "execution_count": 86,
     "metadata": {},
     "output_type": "execute_result"
    }
   ],
   "source": [
    "l=list(test)\n",
    "l"
   ]
  },
  {
   "cell_type": "code",
   "execution_count": 87,
   "id": "b5136d42",
   "metadata": {},
   "outputs": [
    {
     "data": {
      "text/plain": [
       "array([[44, 15, 26,  1],\n",
       "       [32, 11, 17, 43],\n",
       "       [12, 33, 20,  5],\n",
       "       [10, 18, 26, 20]])"
      ]
     },
     "execution_count": 87,
     "metadata": {},
     "output_type": "execute_result"
    }
   ],
   "source": [
    "test.reshape(4,4)"
   ]
  },
  {
   "cell_type": "code",
   "execution_count": 88,
   "id": "0209ec72",
   "metadata": {},
   "outputs": [
    {
     "data": {
      "text/plain": [
       "44"
      ]
     },
     "execution_count": 88,
     "metadata": {},
     "output_type": "execute_result"
    }
   ],
   "source": [
    "test.max()"
   ]
  },
  {
   "cell_type": "code",
   "execution_count": 89,
   "id": "b4c80008",
   "metadata": {},
   "outputs": [
    {
     "data": {
      "text/plain": [
       "1"
      ]
     },
     "execution_count": 89,
     "metadata": {},
     "output_type": "execute_result"
    }
   ],
   "source": [
    "test.min()"
   ]
  },
  {
   "cell_type": "code",
   "execution_count": 91,
   "id": "8a0c96b6",
   "metadata": {},
   "outputs": [
    {
     "data": {
      "text/plain": [
       "0"
      ]
     },
     "execution_count": 91,
     "metadata": {},
     "output_type": "execute_result"
    }
   ],
   "source": [
    "test.argmax() # Return index of max value"
   ]
  },
  {
   "cell_type": "code",
   "execution_count": 92,
   "id": "d2f0262f",
   "metadata": {},
   "outputs": [
    {
     "data": {
      "text/plain": [
       "3"
      ]
     },
     "execution_count": 92,
     "metadata": {},
     "output_type": "execute_result"
    }
   ],
   "source": [
    "test.argmin()"
   ]
  },
  {
   "cell_type": "code",
   "execution_count": 95,
   "id": "619392c8",
   "metadata": {},
   "outputs": [],
   "source": [
    "a=np.random.randint(1,20,size=(3,3))"
   ]
  },
  {
   "cell_type": "code",
   "execution_count": 96,
   "id": "45d4e052",
   "metadata": {},
   "outputs": [
    {
     "data": {
      "text/plain": [
       "array([[ 8, 15, 18],\n",
       "       [ 2, 12, 15],\n",
       "       [ 1,  2,  2]])"
      ]
     },
     "execution_count": 96,
     "metadata": {},
     "output_type": "execute_result"
    }
   ],
   "source": [
    "a"
   ]
  },
  {
   "cell_type": "code",
   "execution_count": 97,
   "id": "596225db",
   "metadata": {},
   "outputs": [],
   "source": [
    "b=np.random.randint(1,20,size=(3,3))"
   ]
  },
  {
   "cell_type": "code",
   "execution_count": 98,
   "id": "b2439976",
   "metadata": {},
   "outputs": [
    {
     "data": {
      "text/plain": [
       "array([[13,  2, 13],\n",
       "       [14, 11,  6],\n",
       "       [19, 16,  3]])"
      ]
     },
     "execution_count": 98,
     "metadata": {},
     "output_type": "execute_result"
    }
   ],
   "source": [
    "b"
   ]
  },
  {
   "cell_type": "code",
   "execution_count": 100,
   "id": "594a80bf",
   "metadata": {},
   "outputs": [],
   "source": [
    "c=a+b"
   ]
  },
  {
   "cell_type": "code",
   "execution_count": 101,
   "id": "817d45d0",
   "metadata": {},
   "outputs": [
    {
     "data": {
      "text/plain": [
       "array([[21, 17, 31],\n",
       "       [16, 23, 21],\n",
       "       [20, 18,  5]])"
      ]
     },
     "execution_count": 101,
     "metadata": {},
     "output_type": "execute_result"
    }
   ],
   "source": [
    "c"
   ]
  },
  {
   "cell_type": "code",
   "execution_count": 102,
   "id": "041ca2f8",
   "metadata": {},
   "outputs": [
    {
     "data": {
      "text/plain": [
       "array([[ 8, 15, 18],\n",
       "       [ 2, 12, 15],\n",
       "       [ 1,  2,  2]])"
      ]
     },
     "execution_count": 102,
     "metadata": {},
     "output_type": "execute_result"
    }
   ],
   "source": [
    "c-b"
   ]
  },
  {
   "cell_type": "code",
   "execution_count": 103,
   "id": "b4de2194",
   "metadata": {},
   "outputs": [
    {
     "data": {
      "text/plain": [
       "array([[104,  30, 234],\n",
       "       [ 28, 132,  90],\n",
       "       [ 19,  32,   6]])"
      ]
     },
     "execution_count": 103,
     "metadata": {},
     "output_type": "execute_result"
    }
   ],
   "source": [
    "a*b"
   ]
  },
  {
   "cell_type": "code",
   "execution_count": 104,
   "id": "f26ab8b9",
   "metadata": {},
   "outputs": [
    {
     "data": {
      "text/plain": [
       "array([[0.61538462, 7.5       , 1.38461538],\n",
       "       [0.14285714, 1.09090909, 2.5       ],\n",
       "       [0.05263158, 0.125     , 0.66666667]])"
      ]
     },
     "execution_count": 104,
     "metadata": {},
     "output_type": "execute_result"
    }
   ],
   "source": [
    "a/b"
   ]
  },
  {
   "cell_type": "code",
   "execution_count": 107,
   "id": "f5decc5e",
   "metadata": {},
   "outputs": [],
   "source": [
    "d=np.hstack((a,b))"
   ]
  },
  {
   "cell_type": "code",
   "execution_count": 108,
   "id": "280108dd",
   "metadata": {},
   "outputs": [
    {
     "data": {
      "text/plain": [
       "array([[ 8, 15, 18, 13,  2, 13],\n",
       "       [ 2, 12, 15, 14, 11,  6],\n",
       "       [ 1,  2,  2, 19, 16,  3]])"
      ]
     },
     "execution_count": 108,
     "metadata": {},
     "output_type": "execute_result"
    }
   ],
   "source": [
    "d"
   ]
  },
  {
   "cell_type": "code",
   "execution_count": 115,
   "id": "85c0b73d",
   "metadata": {},
   "outputs": [],
   "source": [
    "d1=np.column_stack((a,b))"
   ]
  },
  {
   "cell_type": "code",
   "execution_count": 116,
   "id": "a309a82e",
   "metadata": {},
   "outputs": [
    {
     "data": {
      "text/plain": [
       "array([[ 8, 15, 18, 13,  2, 13],\n",
       "       [ 2, 12, 15, 14, 11,  6],\n",
       "       [ 1,  2,  2, 19, 16,  3]])"
      ]
     },
     "execution_count": 116,
     "metadata": {},
     "output_type": "execute_result"
    }
   ],
   "source": [
    "d1"
   ]
  },
  {
   "cell_type": "code",
   "execution_count": 121,
   "id": "8e1e6254",
   "metadata": {},
   "outputs": [],
   "source": [
    "d2=np.concatenate((a,b),axis=1)"
   ]
  },
  {
   "cell_type": "code",
   "execution_count": 122,
   "id": "15d55253",
   "metadata": {},
   "outputs": [
    {
     "data": {
      "text/plain": [
       "array([[ 8, 15, 18, 13,  2, 13],\n",
       "       [ 2, 12, 15, 14, 11,  6],\n",
       "       [ 1,  2,  2, 19, 16,  3]])"
      ]
     },
     "execution_count": 122,
     "metadata": {},
     "output_type": "execute_result"
    }
   ],
   "source": [
    "d2"
   ]
  },
  {
   "cell_type": "code",
   "execution_count": 123,
   "id": "5531cb36",
   "metadata": {},
   "outputs": [],
   "source": [
    "e=np.vstack((a,b))"
   ]
  },
  {
   "cell_type": "code",
   "execution_count": 124,
   "id": "3caf0192",
   "metadata": {},
   "outputs": [
    {
     "data": {
      "text/plain": [
       "array([[ 8, 15, 18],\n",
       "       [ 2, 12, 15],\n",
       "       [ 1,  2,  2],\n",
       "       [13,  2, 13],\n",
       "       [14, 11,  6],\n",
       "       [19, 16,  3]])"
      ]
     },
     "execution_count": 124,
     "metadata": {},
     "output_type": "execute_result"
    }
   ],
   "source": [
    "e"
   ]
  },
  {
   "cell_type": "code",
   "execution_count": 125,
   "id": "dd99b573",
   "metadata": {},
   "outputs": [],
   "source": [
    "e1=np.row_stack((a,b))"
   ]
  },
  {
   "cell_type": "code",
   "execution_count": 126,
   "id": "c12442af",
   "metadata": {},
   "outputs": [
    {
     "data": {
      "text/plain": [
       "array([[ 8, 15, 18],\n",
       "       [ 2, 12, 15],\n",
       "       [ 1,  2,  2],\n",
       "       [13,  2, 13],\n",
       "       [14, 11,  6],\n",
       "       [19, 16,  3]])"
      ]
     },
     "execution_count": 126,
     "metadata": {},
     "output_type": "execute_result"
    }
   ],
   "source": [
    "e1"
   ]
  },
  {
   "cell_type": "code",
   "execution_count": 127,
   "id": "e448aa63",
   "metadata": {},
   "outputs": [],
   "source": [
    "e2=np.concatenate((a,b),axis=0)"
   ]
  },
  {
   "cell_type": "code",
   "execution_count": 128,
   "id": "25631111",
   "metadata": {},
   "outputs": [
    {
     "data": {
      "text/plain": [
       "array([[ 8, 15, 18],\n",
       "       [ 2, 12, 15],\n",
       "       [ 1,  2,  2],\n",
       "       [13,  2, 13],\n",
       "       [14, 11,  6],\n",
       "       [19, 16,  3]])"
      ]
     },
     "execution_count": 128,
     "metadata": {},
     "output_type": "execute_result"
    }
   ],
   "source": [
    "e2"
   ]
  },
  {
   "cell_type": "code",
   "execution_count": 131,
   "id": "f322ff0a",
   "metadata": {},
   "outputs": [
    {
     "name": "stdout",
     "output_type": "stream",
     "text": [
      "Requirement already satisfied: random2 in c:\\users\\user\\anaconda3\\lib\\site-packages (1.0.2)\n",
      "^C\n"
     ]
    }
   ],
   "source": [
    "! pip install random2"
   ]
  },
  {
   "cell_type": "code",
   "execution_count": 132,
   "id": "1baa1fa2",
   "metadata": {},
   "outputs": [
    {
     "name": "stdout",
     "output_type": "stream",
     "text": [
      "Requirement already satisfied: numpy in c:\\users\\user\\anaconda3\\lib\\site-packages (1.24.3)\n"
     ]
    }
   ],
   "source": [
    "!pip install numpy"
   ]
  },
  {
   "cell_type": "code",
   "execution_count": 133,
   "id": "884736fd",
   "metadata": {},
   "outputs": [
    {
     "data": {
      "text/plain": [
       "[29, 81, 98, 47, 32, 86, 21, 27, 20, 82]"
      ]
     },
     "execution_count": 133,
     "metadata": {},
     "output_type": "execute_result"
    }
   ],
   "source": [
    "import random\n",
    "random.sample(range(100),10)"
   ]
  },
  {
   "cell_type": "code",
   "execution_count": 135,
   "id": "5dcd949d",
   "metadata": {},
   "outputs": [
    {
     "data": {
      "text/plain": [
       "array([19,  6, 19,  0,  4, 16,  7, 19,  5, 11])"
      ]
     },
     "execution_count": 135,
     "metadata": {},
     "output_type": "execute_result"
    }
   ],
   "source": [
    "np.random.choice(range(20),10,replace='False')"
   ]
  },
  {
   "cell_type": "code",
   "execution_count": 136,
   "id": "95ddf141",
   "metadata": {},
   "outputs": [
    {
     "data": {
      "text/plain": [
       "array([[ 8, 15, 18],\n",
       "       [ 2, 12, 15],\n",
       "       [ 1,  2,  2]])"
      ]
     },
     "execution_count": 136,
     "metadata": {},
     "output_type": "execute_result"
    }
   ],
   "source": [
    "a"
   ]
  },
  {
   "cell_type": "code",
   "execution_count": 137,
   "id": "032d6ba3",
   "metadata": {},
   "outputs": [
    {
     "data": {
      "text/plain": [
       "array([[ 64, 225, 324],\n",
       "       [  4, 144, 225],\n",
       "       [  1,   4,   4]])"
      ]
     },
     "execution_count": 137,
     "metadata": {},
     "output_type": "execute_result"
    }
   ],
   "source": [
    "a**2"
   ]
  },
  {
   "cell_type": "code",
   "execution_count": 139,
   "id": "344b0032",
   "metadata": {},
   "outputs": [
    {
     "data": {
      "text/plain": [
       "array([[ 8., 15., 18.],\n",
       "       [ 2., 12., 15.],\n",
       "       [ 1.,  2.,  2.]])"
      ]
     },
     "execution_count": 139,
     "metadata": {},
     "output_type": "execute_result"
    }
   ],
   "source": [
    "np.sqrt(a**2)"
   ]
  },
  {
   "cell_type": "code",
   "execution_count": 140,
   "id": "f2850f9b",
   "metadata": {},
   "outputs": [
    {
     "name": "stdout",
     "output_type": "stream",
     "text": [
      "[1, 2, 3, 4, 5, 6]\n"
     ]
    }
   ],
   "source": [
    "l=[1,2,3]\n",
    "m=[4,5,6]\n",
    "print(l+m)"
   ]
  },
  {
   "cell_type": "code",
   "execution_count": 141,
   "id": "2b602d3a",
   "metadata": {},
   "outputs": [
    {
     "data": {
      "text/plain": [
       "18"
      ]
     },
     "execution_count": 141,
     "metadata": {},
     "output_type": "execute_result"
    }
   ],
   "source": [
    "np.max(a)"
   ]
  },
  {
   "cell_type": "code",
   "execution_count": 142,
   "id": "28ed7976",
   "metadata": {},
   "outputs": [
    {
     "data": {
      "text/plain": [
       "2"
      ]
     },
     "execution_count": 142,
     "metadata": {},
     "output_type": "execute_result"
    }
   ],
   "source": [
    "np.argmax(a)"
   ]
  },
  {
   "cell_type": "code",
   "execution_count": 143,
   "id": "a988e8fb",
   "metadata": {},
   "outputs": [
    {
     "data": {
      "text/plain": [
       "1"
      ]
     },
     "execution_count": 143,
     "metadata": {},
     "output_type": "execute_result"
    }
   ],
   "source": [
    "np.min(a)"
   ]
  },
  {
   "cell_type": "code",
   "execution_count": 144,
   "id": "2dd43c05",
   "metadata": {},
   "outputs": [
    {
     "data": {
      "text/plain": [
       "6"
      ]
     },
     "execution_count": 144,
     "metadata": {},
     "output_type": "execute_result"
    }
   ],
   "source": [
    "np.argmin(a)"
   ]
  },
  {
   "cell_type": "code",
   "execution_count": 145,
   "id": "4daf6338",
   "metadata": {},
   "outputs": [
    {
     "name": "stdout",
     "output_type": "stream",
     "text": [
      "[[ 8 15 18]\n",
      " [ 2 12 15]\n",
      " [ 1  2  2]]\n"
     ]
    }
   ],
   "source": [
    "print(a)"
   ]
  },
  {
   "cell_type": "code",
   "execution_count": 147,
   "id": "60d909ee",
   "metadata": {},
   "outputs": [
    {
     "name": "stdout",
     "output_type": "stream",
     "text": [
      "[[2.07944154 2.7080502  2.89037176]\n",
      " [0.69314718 2.48490665 2.7080502 ]\n",
      " [0.         0.69314718 0.69314718]]\n"
     ]
    }
   ],
   "source": [
    "n=np.log(a)\n",
    "print(n)"
   ]
  },
  {
   "cell_type": "code",
   "execution_count": 148,
   "id": "594053b3",
   "metadata": {},
   "outputs": [
    {
     "data": {
      "text/plain": [
       "2.0794415416798357"
      ]
     },
     "execution_count": 148,
     "metadata": {},
     "output_type": "execute_result"
    }
   ],
   "source": [
    "np.log(8)"
   ]
  },
  {
   "cell_type": "code",
   "execution_count": 149,
   "id": "2bd11bbc",
   "metadata": {},
   "outputs": [
    {
     "data": {
      "text/plain": [
       "4.605170185988092"
      ]
     },
     "execution_count": 149,
     "metadata": {},
     "output_type": "execute_result"
    }
   ],
   "source": [
    "np.log(100)"
   ]
  },
  {
   "cell_type": "code",
   "execution_count": 150,
   "id": "8cc1385f",
   "metadata": {},
   "outputs": [
    {
     "name": "stdout",
     "output_type": "stream",
     "text": [
      "<class 'numpy.ndarray'>\n"
     ]
    }
   ],
   "source": [
    "print(type(a))"
   ]
  },
  {
   "cell_type": "code",
   "execution_count": 151,
   "id": "5d7636f8",
   "metadata": {},
   "outputs": [],
   "source": [
    "o=a.copy()"
   ]
  },
  {
   "cell_type": "code",
   "execution_count": 152,
   "id": "3ded2e76",
   "metadata": {},
   "outputs": [
    {
     "name": "stdout",
     "output_type": "stream",
     "text": [
      "[[ 8 15 18]\n",
      " [ 2 12 15]\n",
      " [ 1  2  2]]\n"
     ]
    }
   ],
   "source": [
    "print(o)"
   ]
  },
  {
   "cell_type": "code",
   "execution_count": 153,
   "id": "772aee5d",
   "metadata": {},
   "outputs": [
    {
     "data": {
      "text/plain": [
       "array([[False,  True,  True],\n",
       "       [False,  True,  True],\n",
       "       [False, False, False]])"
      ]
     },
     "execution_count": 153,
     "metadata": {},
     "output_type": "execute_result"
    }
   ],
   "source": [
    "a>10"
   ]
  },
  {
   "cell_type": "code",
   "execution_count": 154,
   "id": "ffc54f6a",
   "metadata": {},
   "outputs": [
    {
     "data": {
      "text/plain": [
       "array([[ True, False, False],\n",
       "       [ True, False, False],\n",
       "       [ True,  True,  True]])"
      ]
     },
     "execution_count": 154,
     "metadata": {},
     "output_type": "execute_result"
    }
   ],
   "source": [
    "a<10"
   ]
  },
  {
   "cell_type": "code",
   "execution_count": 160,
   "id": "9c41f461",
   "metadata": {},
   "outputs": [],
   "source": [
    "p=[5,6,78,34,56]\n",
    "q=list(map(lambda x: x>15,p))"
   ]
  },
  {
   "cell_type": "code",
   "execution_count": 161,
   "id": "cdb28601",
   "metadata": {},
   "outputs": [
    {
     "name": "stdout",
     "output_type": "stream",
     "text": [
      "[False, False, True, True, True]\n"
     ]
    }
   ],
   "source": [
    "print(q)"
   ]
  },
  {
   "cell_type": "code",
   "execution_count": 162,
   "id": "bc90fb68",
   "metadata": {},
   "outputs": [],
   "source": [
    "q1=list(filter(lambda x:x>15,p))"
   ]
  },
  {
   "cell_type": "code",
   "execution_count": 163,
   "id": "52f2fb2b",
   "metadata": {},
   "outputs": [
    {
     "name": "stdout",
     "output_type": "stream",
     "text": [
      "[78, 34, 56]\n"
     ]
    }
   ],
   "source": [
    "print(q1)"
   ]
  },
  {
   "cell_type": "code",
   "execution_count": null,
   "id": "c0205bb1",
   "metadata": {},
   "outputs": [],
   "source": []
  }
 ],
 "metadata": {
  "kernelspec": {
   "display_name": "Python 3 (ipykernel)",
   "language": "python",
   "name": "python3"
  },
  "language_info": {
   "codemirror_mode": {
    "name": "ipython",
    "version": 3
   },
   "file_extension": ".py",
   "mimetype": "text/x-python",
   "name": "python",
   "nbconvert_exporter": "python",
   "pygments_lexer": "ipython3",
   "version": "3.11.5"
  }
 },
 "nbformat": 4,
 "nbformat_minor": 5
}
